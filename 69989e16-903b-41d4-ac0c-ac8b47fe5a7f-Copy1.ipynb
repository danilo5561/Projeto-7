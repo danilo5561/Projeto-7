{
 "cells": [
  {
   "cell_type": "markdown",
   "metadata": {},
   "source": [
    "### Objetivo 1: Análise exploratória de dados (Python)\n",
    "\n",
    "Além dos dados recuperados nas tarefas anteriores, você recebeu um segundo arquivo. Agora você tem estes dois CSVs:\n",
    "\n",
    "/datasets/project_sql_result_01.csv. contém os seguintes dados:\n",
    "\n",
    "contém os seguintes dados:\n",
    "\n",
    "trips_amount: o número de corridas para cada empresa de táxi de 15 a 16 de novembro de 2017.\n",
    "\n",
    "/datasets/project_sql_result_04.csv. contém os seguintes dados:\n",
    "\n",
    "dropoff_location_name: bairros de Chicago onde as corridas terminaram\n",
    "\n",
    "average_trips: o número médio de viagens que terminaram em cada bairro em novembro de 2017.\n",
    "\n",
    "Para esses dois conjuntos de dados, agora você precisa\n",
    "\n",
    "importar os arquivos\n",
    "estudar os dados que eles contêm\n",
    "verificar se os tipos de dados estão corretos\n",
    "identificar os 10 principais bairros em termos de destinos\n",
    "fazer gráficos: empresas de táxi e número de corridas, top 10 bairros por número de corridas em que esse bairro é destino\n",
    "tirar conclusões com base em cada gráfico e explicar os resultados\n",
    "\n",
    "#### Passo 5. Testando hipóteses (Python)\n",
    "\n",
    "/datasets/project_sql_result_07.csv — o resultado da última consulta. Ele contém dados sobre viagens do Loop para o Aeroporto Internacional O'Hare. Lembre-se, estes são os valores dos campos da tabela:\n",
    "\n",
    "start_ts\n",
    "data e hora de coleta\n",
    "weather_conditions\n",
    "condições meteorológicas no momento em que a corrida começou\n",
    "duration_seconds\n",
    "duração da corrida em segundos\n",
    "Teste a hipótese:\n",
    "\n",
    "\"A duração média dos passeios do Loop para o Aeroporto Internacional O'Hare muda nos sábados chuvosos.\" \n",
    "\n",
    "Decida onde definir o nível de significância (alfa) por conta própria.\n",
    "\n",
    "Explique:\n",
    "\n",
    "como você formou as hipóteses nula e alternativa\n",
    "qual critério você usou para testar a hipótese e porque"
   ]
  },
  {
   "cell_type": "code",
   "execution_count": 2,
   "metadata": {},
   "outputs": [],
   "source": [
    "# Análise Exploratória \n",
    "\n",
    "#importar as bibliotecas\n",
    "\n",
    "import pandas as pd\n",
    "from matplotlib import pyplot as plt\n",
    "import numpy as np\n",
    "from scipy import stats as st\n",
    "import random"
   ]
  },
  {
   "cell_type": "code",
   "execution_count": 3,
   "metadata": {},
   "outputs": [
    {
     "name": "stdout",
     "output_type": "stream",
     "text": [
      "<class 'pandas.core.frame.DataFrame'>\n",
      "RangeIndex: 64 entries, 0 to 63\n",
      "Data columns (total 2 columns):\n",
      " #   Column        Non-Null Count  Dtype \n",
      "---  ------        --------------  ----- \n",
      " 0   company_name  64 non-null     object\n",
      " 1   trips_amount  64 non-null     int64 \n",
      "dtypes: int64(1), object(1)\n",
      "memory usage: 1.1+ KB\n",
      "\n",
      "<class 'pandas.core.frame.DataFrame'>\n",
      "RangeIndex: 94 entries, 0 to 93\n",
      "Data columns (total 2 columns):\n",
      " #   Column                 Non-Null Count  Dtype  \n",
      "---  ------                 --------------  -----  \n",
      " 0   dropoff_location_name  94 non-null     object \n",
      " 1   average_trips          94 non-null     float64\n",
      "dtypes: float64(1), object(1)\n",
      "memory usage: 1.6+ KB\n"
     ]
    }
   ],
   "source": [
    "#recuperar CSV:\n",
    "trips_amount_df = pd.read_csv('/datasets/project_sql_result_01.csv')\n",
    "dropoff_location_df = pd.read_csv('/datasets/project_sql_result_04.csv')\n",
    "#obtendo informações sobre os data frames:\n",
    "trips_amount_df.info()\n",
    "print()\n",
    "dropoff_location_df.info()"
   ]
  },
  {
   "cell_type": "code",
   "execution_count": 4,
   "metadata": {},
   "outputs": [
    {
     "name": "stdout",
     "output_type": "stream",
     "text": [
      "                      company_name  trips_amount\n",
      "0                        Flash Cab         19558\n",
      "1        Taxi Affiliation Services         11422\n",
      "2                Medallion Leasing         10367\n",
      "3                       Yellow Cab          9888\n",
      "4  Taxi Affiliation Service Yellow          9299\n"
     ]
    }
   ],
   "source": [
    "print(trips_amount_df.head())"
   ]
  },
  {
   "cell_type": "code",
   "execution_count": 5,
   "metadata": {},
   "outputs": [
    {
     "name": "stdout",
     "output_type": "stream",
     "text": [
      "  dropoff_location_name  average_trips\n",
      "0                  Loop   10727.466667\n",
      "1           River North    9523.666667\n",
      "2         Streeterville    6664.666667\n",
      "3             West Loop    5163.666667\n",
      "4                O'Hare    2546.900000\n"
     ]
    }
   ],
   "source": [
    "print(dropoff_location_df.head())"
   ]
  },
  {
   "cell_type": "code",
   "execution_count": 6,
   "metadata": {},
   "outputs": [
    {
     "data": {
      "text/html": [
       "<div>\n",
       "<style scoped>\n",
       "    .dataframe tbody tr th:only-of-type {\n",
       "        vertical-align: middle;\n",
       "    }\n",
       "\n",
       "    .dataframe tbody tr th {\n",
       "        vertical-align: top;\n",
       "    }\n",
       "\n",
       "    .dataframe thead th {\n",
       "        text-align: right;\n",
       "    }\n",
       "</style>\n",
       "<table border=\"1\" class=\"dataframe\">\n",
       "  <thead>\n",
       "    <tr style=\"text-align: right;\">\n",
       "      <th></th>\n",
       "      <th>trips_amount</th>\n",
       "    </tr>\n",
       "  </thead>\n",
       "  <tbody>\n",
       "    <tr>\n",
       "      <th>count</th>\n",
       "      <td>64.000000</td>\n",
       "    </tr>\n",
       "    <tr>\n",
       "      <th>mean</th>\n",
       "      <td>2145.484375</td>\n",
       "    </tr>\n",
       "    <tr>\n",
       "      <th>std</th>\n",
       "      <td>3812.310186</td>\n",
       "    </tr>\n",
       "    <tr>\n",
       "      <th>min</th>\n",
       "      <td>2.000000</td>\n",
       "    </tr>\n",
       "    <tr>\n",
       "      <th>25%</th>\n",
       "      <td>20.750000</td>\n",
       "    </tr>\n",
       "    <tr>\n",
       "      <th>50%</th>\n",
       "      <td>178.500000</td>\n",
       "    </tr>\n",
       "    <tr>\n",
       "      <th>75%</th>\n",
       "      <td>2106.500000</td>\n",
       "    </tr>\n",
       "    <tr>\n",
       "      <th>max</th>\n",
       "      <td>19558.000000</td>\n",
       "    </tr>\n",
       "  </tbody>\n",
       "</table>\n",
       "</div>"
      ],
      "text/plain": [
       "       trips_amount\n",
       "count     64.000000\n",
       "mean    2145.484375\n",
       "std     3812.310186\n",
       "min        2.000000\n",
       "25%       20.750000\n",
       "50%      178.500000\n",
       "75%     2106.500000\n",
       "max    19558.000000"
      ]
     },
     "execution_count": 6,
     "metadata": {},
     "output_type": "execute_result"
    }
   ],
   "source": [
    "trips_amount_df.describe()"
   ]
  },
  {
   "cell_type": "code",
   "execution_count": 7,
   "metadata": {},
   "outputs": [
    {
     "data": {
      "text/html": [
       "<div>\n",
       "<style scoped>\n",
       "    .dataframe tbody tr th:only-of-type {\n",
       "        vertical-align: middle;\n",
       "    }\n",
       "\n",
       "    .dataframe tbody tr th {\n",
       "        vertical-align: top;\n",
       "    }\n",
       "\n",
       "    .dataframe thead th {\n",
       "        text-align: right;\n",
       "    }\n",
       "</style>\n",
       "<table border=\"1\" class=\"dataframe\">\n",
       "  <thead>\n",
       "    <tr style=\"text-align: right;\">\n",
       "      <th></th>\n",
       "      <th>average_trips</th>\n",
       "    </tr>\n",
       "  </thead>\n",
       "  <tbody>\n",
       "    <tr>\n",
       "      <th>count</th>\n",
       "      <td>94.000000</td>\n",
       "    </tr>\n",
       "    <tr>\n",
       "      <th>mean</th>\n",
       "      <td>599.953728</td>\n",
       "    </tr>\n",
       "    <tr>\n",
       "      <th>std</th>\n",
       "      <td>1714.591098</td>\n",
       "    </tr>\n",
       "    <tr>\n",
       "      <th>min</th>\n",
       "      <td>1.800000</td>\n",
       "    </tr>\n",
       "    <tr>\n",
       "      <th>25%</th>\n",
       "      <td>14.266667</td>\n",
       "    </tr>\n",
       "    <tr>\n",
       "      <th>50%</th>\n",
       "      <td>52.016667</td>\n",
       "    </tr>\n",
       "    <tr>\n",
       "      <th>75%</th>\n",
       "      <td>298.858333</td>\n",
       "    </tr>\n",
       "    <tr>\n",
       "      <th>max</th>\n",
       "      <td>10727.466667</td>\n",
       "    </tr>\n",
       "  </tbody>\n",
       "</table>\n",
       "</div>"
      ],
      "text/plain": [
       "       average_trips\n",
       "count      94.000000\n",
       "mean      599.953728\n",
       "std      1714.591098\n",
       "min         1.800000\n",
       "25%        14.266667\n",
       "50%        52.016667\n",
       "75%       298.858333\n",
       "max     10727.466667"
      ]
     },
     "execution_count": 7,
     "metadata": {},
     "output_type": "execute_result"
    }
   ],
   "source": [
    "dropoff_location_df.describe()"
   ]
  },
  {
   "cell_type": "markdown",
   "metadata": {},
   "source": [
    "#### Resposta do aluno: A princípio, sem dados nulos"
   ]
  },
  {
   "cell_type": "code",
   "execution_count": 8,
   "metadata": {},
   "outputs": [
    {
     "name": "stdout",
     "output_type": "stream",
     "text": [
      "dropoff_location_name\n",
      "Loop                  10727.466667\n",
      "River North            9523.666667\n",
      "Streeterville          6664.666667\n",
      "West Loop              5163.666667\n",
      "O'Hare                 2546.900000\n",
      "Lake View              2420.966667\n",
      "Grant Park             2068.533333\n",
      "Museum Campus          1510.000000\n",
      "Gold Coast             1364.233333\n",
      "Sheffield & DePaul     1259.766667\n",
      "Name: average_trips, dtype: float64\n"
     ]
    }
   ],
   "source": [
    "### verificando os 10 principais bairros em termos de destinos\n",
    "\n",
    "neighborhood_dropoff = dropoff_location_df.groupby('dropoff_location_name')['average_trips'].sum().sort_values(ascending=False)\n",
    "print(neighborhood_dropoff.head(10))\n"
   ]
  },
  {
   "cell_type": "code",
   "execution_count": 9,
   "metadata": {},
   "outputs": [
    {
     "data": {
      "image/png": "[encoded data removed]",
      "text/plain": [
       "<Figure size 640x480 with 1 Axes>"
      ]
     },
     "metadata": {},
     "output_type": "display_data"
    }
   ],
   "source": [
    "### Criando gráficos da tabela trips\n",
    "\n",
    "company_trips = trips_amount_df.groupby('company_name')['trips_amount'].sum()\n",
    "limit_min = 1000 #definindo um limite minimo de corridas, valores abaixo desse limite são irrelevantes. \n",
    "company_trips = company_trips[company_trips > limit_min]\n",
    "colors = ['#%06X' % random.randint(0, 0xFFFFFF) for _ in range(len(company_trips))]\n",
    "company_trips.nlargest(20).plot(kind = 'bar', title='Número de corridas por companhia', xlabel= 'Companhias', ylabel= 'Número de viagens', color=colors)\n",
    "plt.show()"
   ]
  },
  {
   "cell_type": "code",
   "execution_count": 10,
   "metadata": {},
   "outputs": [
    {
     "data": {
      "image/png": "[encoded data removed]",
      "text/plain": [
       "<Figure size 640x480 with 1 Axes>"
      ]
     },
     "metadata": {},
     "output_type": "display_data"
    }
   ],
   "source": [
    "# bairros por número de corridas (destinos)\n",
    "\n",
    "neighborhood_dropoff.nlargest(10).plot(kind='bar', title='Top destinos em número de corridas (bairros)', ylabel='Quantidade total de corridas', xlabel='Destinos')\n",
    "plt.show()\n"
   ]
  },
  {
   "cell_type": "markdown",
   "metadata": {},
   "source": [
    "#### Resposta do aluno:\n",
    "##### Como podemos ver, temos alguns bairros mais requisitados do que outros, é uma informação váliosa para uma eventual campanha, ou extratégia de precificação.\n",
    "##### já o gráfico das companhias, é interessante para estudarmos qual é a abordagem que as companhias com mais corridas tem em relação as demais, se tem algum forte apelo publicitário, segurança, preços, disponibilidade, etc... o ideal seria realizar uma analise SWOT , para obter um raciocionio mais completo sobre esse aspecto."
   ]
  },
  {
   "cell_type": "code",
   "execution_count": 11,
   "metadata": {},
   "outputs": [
    {
     "name": "stdout",
     "output_type": "stream",
     "text": [
      "<class 'pandas.core.frame.DataFrame'>\n",
      "RangeIndex: 1068 entries, 0 to 1067\n",
      "Data columns (total 3 columns):\n",
      " #   Column              Non-Null Count  Dtype  \n",
      "---  ------              --------------  -----  \n",
      " 0   start_ts            1068 non-null   object \n",
      " 1   weather_conditions  1068 non-null   object \n",
      " 2   duration_seconds    1068 non-null   float64\n",
      "dtypes: float64(1), object(2)\n",
      "memory usage: 25.2+ KB\n",
      "\n",
      "              start_ts weather_conditions  duration_seconds\n",
      "0  2017-11-25 16:00:00               Good            2410.0\n",
      "1  2017-11-25 14:00:00               Good            1920.0\n",
      "2  2017-11-25 12:00:00               Good            1543.0\n",
      "3  2017-11-04 10:00:00               Good            2512.0\n",
      "4  2017-11-11 07:00:00               Good            1440.0\n"
     ]
    }
   ],
   "source": [
    "#### teste de hipóteses\n",
    "## lendo ultimo CSV\n",
    "start_df = pd.read_csv('/datasets/project_sql_result_07.csv')\n",
    "\n",
    "start_df.info()\n",
    "print()\n",
    "print(start_df.head())"
   ]
  },
  {
   "cell_type": "code",
   "execution_count": 12,
   "metadata": {},
   "outputs": [
    {
     "name": "stdout",
     "output_type": "stream",
     "text": [
      "Good    888\n",
      "Bad     180\n",
      "Name: weather_conditions, dtype: int64\n",
      "                start_ts weather_conditions  duration_seconds\n",
      "6    2017-11-04 16:00:00                Bad            2969.0\n",
      "30   2017-11-18 12:00:00                Bad            1980.0\n",
      "34   2017-11-04 17:00:00                Bad            2460.0\n",
      "51   2017-11-04 16:00:00                Bad            2760.0\n",
      "52   2017-11-18 12:00:00                Bad            2460.0\n",
      "...                  ...                ...               ...\n",
      "1031 2017-11-18 12:00:00                Bad            2560.0\n",
      "1032 2017-11-18 10:00:00                Bad            1908.0\n",
      "1053 2017-11-18 12:00:00                Bad            2400.0\n",
      "1061 2017-11-18 16:00:00                Bad            2186.0\n",
      "1067 2017-11-04 16:00:00                Bad            2834.0\n",
      "\n",
      "[180 rows x 3 columns]\n",
      "\n",
      "                start_ts weather_conditions  duration_seconds\n",
      "0    2017-11-25 16:00:00               Good            2410.0\n",
      "1    2017-11-25 14:00:00               Good            1920.0\n",
      "2    2017-11-25 12:00:00               Good            1543.0\n",
      "3    2017-11-04 10:00:00               Good            2512.0\n",
      "4    2017-11-11 07:00:00               Good            1440.0\n",
      "...                  ...                ...               ...\n",
      "1062 2017-11-11 06:00:00               Good            1500.0\n",
      "1063 2017-11-25 11:00:00               Good               0.0\n",
      "1064 2017-11-11 10:00:00               Good            1318.0\n",
      "1065 2017-11-11 13:00:00               Good            2100.0\n",
      "1066 2017-11-11 08:00:00               Good            1380.0\n",
      "\n",
      "[888 rows x 3 columns]\n"
     ]
    }
   ],
   "source": [
    "# Teste de Hipostese \"A duração média dos passeios do Loop para o Aeroporto Internacional O'Hare muda nos sábados chuvosos. \"\n",
    "# levando em consideração que os dados do DF já são as viagens de Loop à O'hare, \n",
    "# vamos direto ao filtro e postriormente ao teste de hipotese:\n",
    "\n",
    "print(start_df['weather_conditions'].value_counts())\n",
    "\n",
    "# convertendo valores\n",
    "start_df['start_ts'] = pd.to_datetime(start_df['start_ts'])\n",
    "\n",
    "# Criando um filtro para identificar sábados com a seguinte formula (dayofweek = 5) e condição climática 'Bad'\n",
    "saturdays_bad = (start_df['start_ts'].dt.dayofweek == 5) & (start_df['weather_conditions'] == 'Bad')\n",
    "saturdays_good = (start_df['start_ts'].dt.dayofweek == 5) & (start_df['weather_conditions'] == 'Good')\n",
    "\n",
    "# Extraindo as corridas que ocorreram em sábados com clima ruim e bom para comparar a média\n",
    "saturday_bad_weather = start_df[saturdays_bad] \n",
    "saturday_good_weather = start_df[saturdays_good]\n",
    "\n",
    "print(saturday_bad_weather)\n",
    "print()\n",
    "print(saturday_good_weather)"
   ]
  },
  {
   "cell_type": "code",
   "execution_count": 13,
   "metadata": {},
   "outputs": [
    {
     "name": "stdout",
     "output_type": "stream",
     "text": [
      "0       2410.0\n",
      "1       1920.0\n",
      "2       1543.0\n",
      "3       2512.0\n",
      "4       1440.0\n",
      "         ...  \n",
      "1062    1500.0\n",
      "1063       0.0\n",
      "1064    1318.0\n",
      "1065    2100.0\n",
      "1066    1380.0\n",
      "Name: duration_seconds, Length: 888, dtype: float64\n",
      "\n",
      "6       2969.0\n",
      "30      1980.0\n",
      "34      2460.0\n",
      "51      2760.0\n",
      "52      2460.0\n",
      "         ...  \n",
      "1031    2560.0\n",
      "1032    1908.0\n",
      "1053    2400.0\n",
      "1061    2186.0\n",
      "1067    2834.0\n",
      "Name: duration_seconds, Length: 180, dtype: float64\n"
     ]
    }
   ],
   "source": [
    "### 2 passo: testar hipótese\n",
    "good = saturday_good_weather['duration_seconds']\n",
    "bad = saturday_bad_weather['duration_seconds']\n",
    "\n",
    "print(good)\n",
    "print()\n",
    "print(bad)"
   ]
  },
  {
   "cell_type": "code",
   "execution_count": 14,
   "metadata": {},
   "outputs": [
    {
     "name": "stdout",
     "output_type": "stream",
     "text": [
      "576382.009689509\n",
      "\n",
      "520294.086002483\n"
     ]
    }
   ],
   "source": [
    "# Verificando as variâncias, das populações good(tempo bom) e bad(tempo ruim)\n",
    "\n",
    "print(good.var())\n",
    "print()\n",
    "print(bad.var())"
   ]
  },
  {
   "cell_type": "markdown",
   "metadata": {},
   "source": [
    "##### podemos notar que as variâncias são diferentes, ou seja, será utilizado 'equal_var=False' no teste de hipotese"
   ]
  },
  {
   "cell_type": "code",
   "execution_count": 15,
   "metadata": {},
   "outputs": [
    {
     "name": "stdout",
     "output_type": "stream",
     "text": [
      "valor-p: 6.738994326108734e-12\n",
      "Rejeitamos a Hipotese Nula (as médias são diferentes)\n"
     ]
    }
   ],
   "source": [
    "# Agora vou testar a hipoteses:\n",
    "\n",
    "# 1) Hipotese Alternativa: A duração média das corridas aos sabados chuvosos muda. \n",
    "# 2) Hipotese Nula, a duração média das corridas não muda nós dias ruins.\n",
    "\n",
    "#definir limiar alpha em 0.05 pois é um limiar razoavél para evitar erros de hipótese\n",
    "\n",
    "good # Corridas nos sábados com clima bom\n",
    "bad # Corridas nos sábados com clima ruim\n",
    "\n",
    "alpha = 0.05\n",
    "\n",
    "#teste de hipotese de 2 populações\n",
    "results = st.ttest_ind(good, bad, equal_var= False)\n",
    "print('valor-p:', results.pvalue)\n",
    "if results.pvalue < alpha:\n",
    "    print(\"Rejeitamos a Hipotese Nula (as médias são diferentes)\")\n",
    "else:\n",
    "    print(\"Não podemos rejeitar a Hipotese Nula (ambas as médias são iguais independente do clima)\")"
   ]
  },
  {
   "cell_type": "code",
   "execution_count": 16,
   "metadata": {},
   "outputs": [
    {
     "name": "stdout",
     "output_type": "stream",
     "text": [
      "1999.6756756756756\n",
      "\n",
      "2427.2055555555557\n"
     ]
    }
   ],
   "source": [
    "print(good.mean())\n",
    "print()\n",
    "print(bad.mean())"
   ]
  },
  {
   "cell_type": "markdown",
   "metadata": {},
   "source": [
    "#### Conclusão:\n",
    "\n",
    "#### Realizei apenas um comparativo, para reforçar o teste estatístico, como podemos ver, por mais que a quantidade de corridas nos dias ruins sejam bem menores do que nos dias bons, a média de duração das corridas nos sábados é bem maior do que a média nos dias bons."
   ]
  },
  {
   "cell_type": "code",
   "execution_count": null,
   "metadata": {},
   "outputs": [],
   "source": []
  }
 ],
 "metadata": {
  "ExecuteTimeLog": [
   {
    "duration": 160,
    "start_time": "2024-09-26T20:09:13.725Z"
   },
   {
    "duration": 2427,
    "start_time": "2024-09-26T20:09:20.882Z"
   },
   {
    "duration": 19,
    "start_time": "2024-09-26T20:09:23.311Z"
   },
   {
    "duration": 16,
    "start_time": "2024-09-26T20:09:52.947Z"
   },
   {
    "duration": 6,
    "start_time": "2024-09-26T20:18:48.083Z"
   },
   {
    "duration": 5,
    "start_time": "2024-09-26T20:19:14.308Z"
   },
   {
    "duration": 75,
    "start_time": "2024-09-26T20:51:38.715Z"
   },
   {
    "duration": 5,
    "start_time": "2024-09-26T20:51:48.405Z"
   },
   {
    "duration": 5,
    "start_time": "2024-09-26T20:52:07.559Z"
   },
   {
    "duration": 114,
    "start_time": "2024-09-26T21:08:14.121Z"
   },
   {
    "duration": 127,
    "start_time": "2024-09-26T21:08:37.484Z"
   },
   {
    "duration": 102,
    "start_time": "2024-09-26T21:25:49.030Z"
   },
   {
    "duration": 1037,
    "start_time": "2024-09-26T21:26:35.115Z"
   },
   {
    "duration": 948,
    "start_time": "2024-09-26T21:27:10.815Z"
   },
   {
    "duration": 1029,
    "start_time": "2024-09-26T21:28:30.992Z"
   },
   {
    "duration": 6,
    "start_time": "2024-09-26T21:29:07.621Z"
   },
   {
    "duration": 941,
    "start_time": "2024-09-26T21:29:15.669Z"
   },
   {
    "duration": 225,
    "start_time": "2024-09-26T21:36:35.922Z"
   },
   {
    "duration": 659,
    "start_time": "2024-09-26T21:37:34.563Z"
   },
   {
    "duration": 309,
    "start_time": "2024-09-26T21:37:41.469Z"
   },
   {
    "duration": 4,
    "start_time": "2024-09-26T21:40:05.359Z"
   },
   {
    "duration": 231,
    "start_time": "2024-09-26T21:40:13.585Z"
   },
   {
    "duration": 24,
    "start_time": "2024-09-26T21:56:08.822Z"
   },
   {
    "duration": 1078,
    "start_time": "2024-09-26T21:56:34.753Z"
   },
   {
    "duration": 159,
    "start_time": "2024-09-26T21:56:56.831Z"
   },
   {
    "duration": 1115,
    "start_time": "2024-09-26T21:57:12.932Z"
   },
   {
    "duration": 121,
    "start_time": "2024-09-26T21:58:39.470Z"
   },
   {
    "duration": 119,
    "start_time": "2024-09-26T22:04:35.970Z"
   },
   {
    "duration": 117,
    "start_time": "2024-09-26T22:08:38.738Z"
   },
   {
    "duration": 138,
    "start_time": "2024-09-26T22:47:02.828Z"
   },
   {
    "duration": 253,
    "start_time": "2024-09-26T22:49:31.963Z"
   },
   {
    "duration": 313,
    "start_time": "2024-09-26T23:06:35.874Z"
   },
   {
    "duration": 13,
    "start_time": "2024-09-26T23:06:51.019Z"
   },
   {
    "duration": 11,
    "start_time": "2024-09-26T23:09:59.050Z"
   },
   {
    "duration": 12,
    "start_time": "2024-09-26T23:10:21.079Z"
   },
   {
    "duration": 4,
    "start_time": "2024-09-26T23:19:52.640Z"
   },
   {
    "duration": 14,
    "start_time": "2024-09-26T23:46:52.764Z"
   },
   {
    "duration": 17,
    "start_time": "2024-09-26T23:58:35.820Z"
   },
   {
    "duration": 458,
    "start_time": "2024-09-26T23:59:03.937Z"
   },
   {
    "duration": 15,
    "start_time": "2024-09-26T23:59:56.336Z"
   },
   {
    "duration": 13,
    "start_time": "2024-09-27T00:01:43.570Z"
   },
   {
    "duration": 46,
    "start_time": "2024-09-27T00:01:55.014Z"
   },
   {
    "duration": 51,
    "start_time": "2024-09-27T00:06:08.112Z"
   },
   {
    "duration": 8,
    "start_time": "2024-09-27T00:06:33.388Z"
   },
   {
    "duration": 9,
    "start_time": "2024-09-27T00:07:25.055Z"
   },
   {
    "duration": 12,
    "start_time": "2024-09-27T00:07:50.177Z"
   },
   {
    "duration": 14,
    "start_time": "2024-09-27T00:08:51.321Z"
   },
   {
    "duration": 4,
    "start_time": "2024-09-27T00:12:51.653Z"
   },
   {
    "duration": 2,
    "start_time": "2024-09-27T00:13:30.801Z"
   },
   {
    "duration": 5,
    "start_time": "2024-09-27T00:13:48.771Z"
   },
   {
    "duration": 5,
    "start_time": "2024-09-27T00:35:47.395Z"
   },
   {
    "duration": 5,
    "start_time": "2024-09-27T00:36:04.868Z"
   },
   {
    "duration": 3,
    "start_time": "2024-09-27T00:38:11.619Z"
   },
   {
    "duration": 13,
    "start_time": "2024-09-27T00:40:33.131Z"
   },
   {
    "duration": 3,
    "start_time": "2024-09-27T00:40:45.649Z"
   },
   {
    "duration": 155,
    "start_time": "2024-09-27T18:21:49.861Z"
   },
   {
    "duration": 2360,
    "start_time": "2024-09-27T18:21:56.288Z"
   },
   {
    "duration": 21,
    "start_time": "2024-09-27T18:21:58.650Z"
   },
   {
    "duration": 5,
    "start_time": "2024-09-27T18:21:58.672Z"
   },
   {
    "duration": 4,
    "start_time": "2024-09-27T18:21:58.678Z"
   },
   {
    "duration": 5,
    "start_time": "2024-09-27T18:21:58.684Z"
   },
   {
    "duration": 267,
    "start_time": "2024-09-27T18:21:58.706Z"
   },
   {
    "duration": 129,
    "start_time": "2024-09-27T18:21:58.976Z"
   },
   {
    "duration": 13,
    "start_time": "2024-09-27T18:21:59.107Z"
   },
   {
    "duration": 59,
    "start_time": "2024-09-27T18:21:59.121Z"
   },
   {
    "duration": 4,
    "start_time": "2024-09-27T18:21:59.182Z"
   },
   {
    "duration": 19,
    "start_time": "2024-09-27T18:21:59.188Z"
   },
   {
    "duration": 4,
    "start_time": "2024-09-27T18:21:59.208Z"
   },
   {
    "duration": 3,
    "start_time": "2024-09-27T18:21:59.214Z"
   },
   {
    "duration": 3,
    "start_time": "2024-09-27T18:22:21.193Z"
   },
   {
    "duration": 153,
    "start_time": "2024-09-27T18:28:11.599Z"
   },
   {
    "duration": 148,
    "start_time": "2024-09-27T18:29:16.980Z"
   },
   {
    "duration": 322,
    "start_time": "2024-09-27T18:32:24.435Z"
   },
   {
    "duration": 140,
    "start_time": "2024-09-27T18:33:05.617Z"
   },
   {
    "duration": 138,
    "start_time": "2024-09-27T18:33:28.232Z"
   },
   {
    "duration": 201,
    "start_time": "2024-09-27T18:33:42.795Z"
   },
   {
    "duration": 138,
    "start_time": "2024-09-27T18:35:35.076Z"
   },
   {
    "duration": 136,
    "start_time": "2024-09-27T18:39:28.290Z"
   },
   {
    "duration": 145,
    "start_time": "2024-09-27T18:39:53.106Z"
   },
   {
    "duration": 149,
    "start_time": "2024-09-27T18:40:06.887Z"
   },
   {
    "duration": 17,
    "start_time": "2024-09-27T18:41:36.999Z"
   },
   {
    "duration": 24,
    "start_time": "2024-09-27T18:42:06.861Z"
   },
   {
    "duration": 18,
    "start_time": "2024-09-27T18:42:20.206Z"
   },
   {
    "duration": 2,
    "start_time": "2024-09-27T18:42:37.090Z"
   },
   {
    "duration": 23,
    "start_time": "2024-09-27T18:42:43.452Z"
   },
   {
    "duration": 143,
    "start_time": "2024-09-27T18:43:02.930Z"
   },
   {
    "duration": 142,
    "start_time": "2024-09-27T18:43:24.338Z"
   },
   {
    "duration": 151,
    "start_time": "2024-09-27T18:44:11.715Z"
   },
   {
    "duration": 152,
    "start_time": "2024-09-27T18:44:56.874Z"
   },
   {
    "duration": 149,
    "start_time": "2024-09-27T18:45:59.625Z"
   },
   {
    "duration": 175,
    "start_time": "2024-09-27T18:47:06.866Z"
   },
   {
    "duration": 201,
    "start_time": "2024-09-27T18:47:25.951Z"
   },
   {
    "duration": 11,
    "start_time": "2024-09-27T18:50:29.275Z"
   },
   {
    "duration": 9,
    "start_time": "2024-09-27T18:51:08.275Z"
   },
   {
    "duration": 169,
    "start_time": "2025-01-14T19:14:54.500Z"
   },
   {
    "duration": 2852,
    "start_time": "2025-01-14T19:15:06.397Z"
   },
   {
    "duration": 30,
    "start_time": "2025-01-14T19:15:09.252Z"
   },
   {
    "duration": 6,
    "start_time": "2025-01-14T19:15:09.284Z"
   },
   {
    "duration": 4,
    "start_time": "2025-01-14T19:15:09.293Z"
   },
   {
    "duration": 11,
    "start_time": "2025-01-14T19:15:09.311Z"
   },
   {
    "duration": 10,
    "start_time": "2025-01-14T19:15:09.324Z"
   },
   {
    "duration": 6,
    "start_time": "2025-01-14T19:15:09.335Z"
   },
   {
    "duration": 271,
    "start_time": "2025-01-14T19:15:09.342Z"
   },
   {
    "duration": 140,
    "start_time": "2025-01-14T19:15:09.615Z"
   },
   {
    "duration": 28,
    "start_time": "2025-01-14T19:15:09.762Z"
   },
   {
    "duration": 14,
    "start_time": "2025-01-14T19:15:09.792Z"
   },
   {
    "duration": 6,
    "start_time": "2025-01-14T19:15:09.809Z"
   },
   {
    "duration": 4,
    "start_time": "2025-01-14T19:15:09.817Z"
   },
   {
    "duration": 4,
    "start_time": "2025-01-14T19:15:09.824Z"
   },
   {
    "duration": 3,
    "start_time": "2025-01-14T19:15:09.830Z"
   }
  ],
  "kernelspec": {
   "display_name": "Python 3 (ipykernel)",
   "language": "python",
   "name": "python3"
  },
  "language_info": {
   "codemirror_mode": {
    "name": "ipython",
    "version": 3
   },
   "file_extension": ".py",
   "mimetype": "text/x-python",
   "name": "python",
   "nbconvert_exporter": "python",
   "pygments_lexer": "ipython3",
   "version": "3.9.19"
  },
  "toc": {
   "base_numbering": 1,
   "nav_menu": {},
   "number_sections": true,
   "sideBar": true,
   "skip_h1_title": true,
   "title_cell": "Table of Contents",
   "title_sidebar": "Contents",
   "toc_cell": false,
   "toc_position": {},
   "toc_section_display": true,
   "toc_window_display": false
  }
 },
 "nbformat": 4,
 "nbformat_minor": 2
}
